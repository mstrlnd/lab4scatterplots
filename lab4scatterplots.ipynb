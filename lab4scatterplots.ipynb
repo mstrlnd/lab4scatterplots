{
 "cells": [
  {
   "cell_type": "code",
   "execution_count": null,
   "id": "9a56dd66-bfdd-495e-b305-463e8e57b4f4",
   "metadata": {},
   "outputs": [],
   "source": [
    "#import python libraries for data analysis \n",
    "#I'm for loading data into data frames\n",
    "import pandas as pd \n",
    "#I'm for plotting data\n",
    "import seaborn as sns \n",
    "#I'm also for plotting data\n",
    "import matplotlib.pylab as plt "
   ]
  },
  {
   "cell_type": "markdown",
   "id": "f614f005-6864-4305-9b4c-112dbb348f44",
   "metadata": {},
   "source": [
    "**CDC Data**"
   ]
  },
  {
   "cell_type": "code",
   "execution_count": null,
   "id": "6c88f869-1bdb-46a5-9a76-28b61588e919",
   "metadata": {},
   "outputs": [],
   "source": [
    "#load data\n",
    "df = pd.read_csv('cdc.csv')\n",
    "#number of rows of data and the number of variables - How many rows are there?  How many variables?\n",
    "df.shape"
   ]
  },
  {
   "cell_type": "code",
   "execution_count": null,
   "id": "f5a721aa-0e4d-4291-b401-c0ccac984953",
   "metadata": {},
   "outputs": [],
   "source": [
    "#preview the first 5 rows of data (some variables might get cut off)\n",
    "df.head()"
   ]
  },
  {
   "cell_type": "code",
   "execution_count": null,
   "id": "46ead6f3-aed7-472d-aad3-31fd472d7d06",
   "metadata": {},
   "outputs": [],
   "source": [
    "#Check the datatypes.  \"object\" is categorical.  \"int64\" and \"float64\" are numerical \n",
    "df.dtypes"
   ]
  },
  {
   "cell_type": "code",
   "execution_count": null,
   "id": "0f86d5d3-bf21-4b75-a06c-654abd7da1a7",
   "metadata": {},
   "outputs": [],
   "source": [
    "#Make a scatterplot of 2 numerical variables\n",
    "sns.scatterplot(data=df, x='height', y='weight')"
   ]
  },
  {
   "cell_type": "code",
   "execution_count": null,
   "id": "45fa625d-8c1b-43b6-a06e-ff93d9e9e719",
   "metadata": {},
   "outputs": [],
   "source": [
    "#Make a scatterplot of 2 numerical variables colored by a categorical\n",
    "sns.scatterplot(data=df, x='height', y='weight', hue='gender')"
   ]
  },
  {
   "cell_type": "markdown",
   "id": "2d06f5eb-3104-4a56-9cba-6ae1776285f0",
   "metadata": {},
   "source": [
    "**Food Habits Data**"
   ]
  },
  {
   "cell_type": "code",
   "execution_count": null,
   "id": "6c1923e7-9714-46b7-931c-3a8caa4d3b7e",
   "metadata": {},
   "outputs": [],
   "source": [
    "#load data - replacing the df variable with Food Habits data\n",
    "df = pd.read_csv('Food Habits.csv')\n",
    "#number of rows of data and the number of variables - How many rows are there?  How many variables?\n",
    "df.shape"
   ]
  },
  {
   "cell_type": "code",
   "execution_count": null,
   "id": "5b42625a-c161-4442-87cb-077b8e4af5bf",
   "metadata": {},
   "outputs": [],
   "source": [
    "#preview the first 5 rows of data (some variables might get cut off)\n",
    "df.head()"
   ]
  },
  {
   "cell_type": "code",
   "execution_count": null,
   "id": "57c3430e-ce03-4358-a149-1d15d58514b2",
   "metadata": {},
   "outputs": [],
   "source": [
    "#Check the datatypes.  \"object\" is categorical or text.  \"int64\" and \"float64\" are numerical \n",
    "df.dtypes"
   ]
  },
  {
   "cell_type": "code",
   "execution_count": null,
   "id": "ad04a0f6-a637-4b9c-bbf3-7581e93312dc",
   "metadata": {},
   "outputs": [],
   "source": []
  }
 ],
 "metadata": {
  "kernelspec": {
   "display_name": "Python 3 (ipykernel)",
   "language": "python",
   "name": "python3"
  },
  "language_info": {
   "codemirror_mode": {
    "name": "ipython",
    "version": 3
   },
   "file_extension": ".py",
   "mimetype": "text/x-python",
   "name": "python",
   "nbconvert_exporter": "python",
   "pygments_lexer": "ipython3",
   "version": "3.9.12"
  }
 },
 "nbformat": 4,
 "nbformat_minor": 5
}
